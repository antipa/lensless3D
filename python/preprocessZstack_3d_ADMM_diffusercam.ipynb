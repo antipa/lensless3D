{
 "cells": [
  {
   "cell_type": "code",
   "execution_count": null,
   "metadata": {
    "collapsed": false
   },
   "outputs": [],
   "source": [
    "import scipy as sc\n",
    "from scipy import io\n",
    "import numpy as np\n",
    "\n",
    "zstack = sc.io.loadmat('/Users/nick.antipa/Documents/Diffusers/Lensless/3D_calibration/led_zstack_270x320x64_EnvCorrect_dub.mat')\n",
    "print(zstack['imave'].dtype)\n",
    "\n"
   ]
  },
  {
   "cell_type": "code",
   "execution_count": null,
   "metadata": {
    "collapsed": false
   },
   "outputs": [],
   "source": [
    "print(zstack.keys())\n",
    "print(zstack['imave'].dtype)"
   ]
  },
  {
   "cell_type": "code",
   "execution_count": null,
   "metadata": {
    "collapsed": false
   },
   "outputs": [],
   "source": [
    "import matplotlib as mpl\n",
    "import matplotlib.pyplot as plt\n",
    "import matplotlib.image as mpimg\n",
    "from IPython import display\n",
    "from scipy import signal\n",
    "\n",
    "def img_down(I):\n",
    "    return .25 * (I[::2,::2,...]+I[1::2,::2,...]+I[::2,1::2,...]+I[1::2,1::2,...])\n",
    "\n",
    "# Order needs to be zyx, np.transpose\n",
    "h = zstack['imave']\n",
    "h = h.astype(np.float32)\n",
    "\n",
    "s = np.shape(h)\n",
    "print(h.dtype)\n",
    "dsx = 0\n",
    "srow = int(np.round(s[0]))\n",
    "scol = int(np.round(s[1]))\n",
    "hstack = np.zeros([srow, scol, s[2]])\n",
    "print(np.shape(hstack))\n",
    "for n in range(s[2]):\n",
    "    hn = h[:,:,n]-100\n",
    "    if dsx>0:\n",
    "        for m in range(dsx):\n",
    "            hn = img_down(hn)\n",
    "            \n",
    "    hstack[:,:,n]=hn\n",
    "    print(hn.dtype)\n",
    "    #plt.imshow(hn[rl:ru,cl:cu],vmin=0,vmax=np.percentile(hs,99))\n",
    "    #fig = plt.gcf()\n",
    "    #fig.set_size_inches(20,20)\n",
    "    #display.clear_output(wait=True)\n",
    "    #display.display(fig)\n",
    "print(np.shape(hstack))"
   ]
  },
  {
   "cell_type": "code",
   "execution_count": null,
   "metadata": {
    "collapsed": false
   },
   "outputs": [],
   "source": [
    "for n in range(s[2]):\n",
    "    plt.imshow(hstack[:,:,n],vmin=0,vmax=2**16)\n",
    "    fig = plt.gcf()\n",
    "    display.clear_output(wait=True)\n",
    "    display.display(fig)"
   ]
  },
  {
   "cell_type": "code",
   "execution_count": null,
   "metadata": {
    "collapsed": false
   },
   "outputs": [],
   "source": [
    "newFile = open(\"/Users/nick.antipa/Documents/Diffusers/Lensless/3D_calibration/led_zstack_270_320_64_bgrm_EnvCorrect_FIXED.bin\", \"wb\")\n",
    "my_bytes = bytes(np.transpose(hstack,(2,0,1)).astype(np.float32).tobytes())\n",
    "newFile.write(my_bytes)"
   ]
  },
  {
   "cell_type": "code",
   "execution_count": null,
   "metadata": {
    "collapsed": false
   },
   "outputs": [],
   "source": [
    "import scipy as sc\n",
    "from scipy import misc\n",
    "import numpy as np\n",
    "%matplotlib inline\n",
    "from skimage import io, exposure, img_as_uint, img_as_float\n",
    "import matplotlib.pyplot as plt\n",
    "def img_down(I):\n",
    "    return .25 * (I[::2,::2,...]+I[1::2,::2,...]+I[::2,1::2,...]+I[1::2,1::2,...])\n",
    "imin = sc.misc.imread('/Users/nick.antipa/Documents/Diffusers/Lensless/3d_Data/plantCloser.png')\n",
    "imd = imin.astype(np.float64)\n",
    "dsx = 3; #Number of times to downsample by 2, not the amount of downsampling\n",
    "print(imin.shape)\n",
    "for m in range(dsx):\n",
    "    imd = img_down(imd)\n",
    "imd = imd.astype(np.uint16)\n",
    "print(imd.shape)\n",
    "plt.imshow(imd)\n",
    "io.imsave('/Users/nick.antipa/Documents/Diffusers/Lensless/3d_Data/plantCloser_270.png',imd)"
   ]
  }
 ],
 "metadata": {
  "kernelspec": {
   "display_name": "Python 3",
   "language": "python",
   "name": "python3"
  },
  "language_info": {
   "codemirror_mode": {
    "name": "ipython",
    "version": 3
   },
   "file_extension": ".py",
   "mimetype": "text/x-python",
   "name": "python",
   "nbconvert_exporter": "python",
   "pygments_lexer": "ipython3",
   "version": "3.6.0"
  }
 },
 "nbformat": 4,
 "nbformat_minor": 2
}
